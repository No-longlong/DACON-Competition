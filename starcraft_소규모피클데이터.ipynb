{
 "cells": [
  {
   "cell_type": "markdown",
   "metadata": {},
   "source": [
    "# 변수 설명\n",
    "\n",
    "game_id : 경기 구분 기호\n",
    "\n",
    "winner : 승리 선수 --> 한 게임에서 0과 1이라는 플레이어가 있는데 둘 중 누가 이긴지를 의미함\n",
    "\n",
    "time : 경기 시간\n",
    "\n",
    "player : 선수\n",
    "\n",
    "##1) 0: 첫 번째 선수\n",
    "\n",
    "##2) 1: 두 번째 선수\n",
    "\n",
    "species : 종족\n",
    "\n",
    "##1) T: 테란\n",
    "\n",
    "##2) P: 프로토스\n",
    "\n",
    "##3) Z: 저그\n",
    "\n",
    "event : 행동 종류\n",
    "\n",
    "event_contents : 행동 상세\n",
    "\n",
    "##1) Ability : 생산, 공격 등 선수의 주요 행동\n",
    "\n",
    "##2) AddToControlGroup : 부대에 추가\n",
    "\n",
    "##3) Camera : 시점 선택\n",
    "\n",
    "##4) ControlGroup : 부대 행동\n",
    "\n",
    "##5) GetControlGroup : 부대 불러오기\n",
    "\n",
    "##6) Right Click : 마우스 우클릭\n",
    "\n",
    "##7) Selection : 객체 선택\n",
    "\n",
    "##8) SetControlGroup : 부대 지정"
   ]
  },
  {
   "cell_type": "code",
   "execution_count": 4,
   "metadata": {},
   "outputs": [],
   "source": [
    "# 패키지 불러오기\n",
    "\n",
    "import pandas as pd                         # 데이터 분석 라이브러리\n",
    "import numpy as np                          # 계산 라이브러리\n",
    "from tqdm import tqdm                       # 진행바\n",
    "from sklearn.metrics import roc_auc_score   # AUC 스코어 계산\n",
    "from sklearn.model_selection import KFold   # K-fold CV    \n",
    "from bayes_opt import BayesianOptimization  # 베이지안 최적화 라이브러리  \n",
    "from functools import partial               # 함수 변수 고정\n",
    "import lightgbm as lgb                      # LightGBM 라이브러리\n",
    "import warnings                             \n",
    "warnings.filterwarnings(\"ignore\")           # 경고 문구 미표시"
   ]
  },
  {
   "cell_type": "markdown",
   "metadata": {},
   "source": [
    "# 패키지 불러오기\n",
    "\n",
    "import numpy as np\n",
    "import pandas as pd\n",
    "import matplotlib.pyplot as plt\n",
    "import seaborn as sns\n",
    "\n",
    "plt.style.use('seaborn')\n",
    "sns.set(font_scale=2.5)\n",
    "\n",
    "import missingno as msno # 결측값\n",
    "\n",
    "import warnings # 경고무시\n",
    "warnings.filterwarnings('ignore')\n",
    "\n",
    "%matplotlib inline"
   ]
  },
  {
   "cell_type": "code",
   "execution_count": 5,
   "metadata": {},
   "outputs": [],
   "source": [
    "pd.options.display.float_format = '{:.2f}'.format # 소수점 둘째자리까지 표현\n"
   ]
  },
  {
   "cell_type": "code",
   "execution_count": 6,
   "metadata": {},
   "outputs": [],
   "source": [
    "train = pd.read_pickle('train_17m.pickle')"
   ]
  },
  {
   "cell_type": "code",
   "execution_count": 7,
   "metadata": {},
   "outputs": [
    {
     "data": {
      "text/html": [
       "<div>\n",
       "<style scoped>\n",
       "    .dataframe tbody tr th:only-of-type {\n",
       "        vertical-align: middle;\n",
       "    }\n",
       "\n",
       "    .dataframe tbody tr th {\n",
       "        vertical-align: top;\n",
       "    }\n",
       "\n",
       "    .dataframe thead th {\n",
       "        text-align: right;\n",
       "    }\n",
       "</style>\n",
       "<table border=\"1\" class=\"dataframe\">\n",
       "  <thead>\n",
       "    <tr style=\"text-align: right;\">\n",
       "      <th></th>\n",
       "      <th>game_id</th>\n",
       "      <th>winner</th>\n",
       "      <th>time</th>\n",
       "      <th>player</th>\n",
       "      <th>species</th>\n",
       "      <th>event</th>\n",
       "      <th>event_contents</th>\n",
       "    </tr>\n",
       "  </thead>\n",
       "  <tbody>\n",
       "    <tr>\n",
       "      <th>0</th>\n",
       "      <td>0</td>\n",
       "      <td>1</td>\n",
       "      <td>0.00</td>\n",
       "      <td>0</td>\n",
       "      <td>T</td>\n",
       "      <td>Camera</td>\n",
       "      <td>at (145.25, 21.5078125)</td>\n",
       "    </tr>\n",
       "    <tr>\n",
       "      <th>1</th>\n",
       "      <td>0</td>\n",
       "      <td>1</td>\n",
       "      <td>0.00</td>\n",
       "      <td>1</td>\n",
       "      <td>T</td>\n",
       "      <td>Camera</td>\n",
       "      <td>at (22.75, 147.0078125)</td>\n",
       "    </tr>\n",
       "    <tr>\n",
       "      <th>2</th>\n",
       "      <td>0</td>\n",
       "      <td>1</td>\n",
       "      <td>0.02</td>\n",
       "      <td>0</td>\n",
       "      <td>T</td>\n",
       "      <td>Selection</td>\n",
       "      <td>['OrbitalCommand [3080001]']</td>\n",
       "    </tr>\n",
       "    <tr>\n",
       "      <th>3</th>\n",
       "      <td>0</td>\n",
       "      <td>1</td>\n",
       "      <td>0.02</td>\n",
       "      <td>0</td>\n",
       "      <td>T</td>\n",
       "      <td>Ability</td>\n",
       "      <td>(1360) - TrainSCV</td>\n",
       "    </tr>\n",
       "    <tr>\n",
       "      <th>4</th>\n",
       "      <td>0</td>\n",
       "      <td>1</td>\n",
       "      <td>0.14</td>\n",
       "      <td>0</td>\n",
       "      <td>T</td>\n",
       "      <td>Camera</td>\n",
       "      <td>at (142.99609375, 24.50390625)</td>\n",
       "    </tr>\n",
       "    <tr>\n",
       "      <th>...</th>\n",
       "      <td>...</td>\n",
       "      <td>...</td>\n",
       "      <td>...</td>\n",
       "      <td>...</td>\n",
       "      <td>...</td>\n",
       "      <td>...</td>\n",
       "      <td>...</td>\n",
       "    </tr>\n",
       "    <tr>\n",
       "      <th>17282259</th>\n",
       "      <td>10000</td>\n",
       "      <td>1</td>\n",
       "      <td>9.58</td>\n",
       "      <td>0</td>\n",
       "      <td>T</td>\n",
       "      <td>Right Click</td>\n",
       "      <td>Target: None [026C0001]; Location: (67.0, 14.5...</td>\n",
       "    </tr>\n",
       "    <tr>\n",
       "      <th>17282260</th>\n",
       "      <td>10000</td>\n",
       "      <td>1</td>\n",
       "      <td>9.59</td>\n",
       "      <td>1</td>\n",
       "      <td>Z</td>\n",
       "      <td>GetControlGroup</td>\n",
       "      <td>NaN</td>\n",
       "    </tr>\n",
       "    <tr>\n",
       "      <th>17282261</th>\n",
       "      <td>10000</td>\n",
       "      <td>1</td>\n",
       "      <td>9.59</td>\n",
       "      <td>0</td>\n",
       "      <td>T</td>\n",
       "      <td>Ability</td>\n",
       "      <td>(1360) - TrainSCV</td>\n",
       "    </tr>\n",
       "    <tr>\n",
       "      <th>17282262</th>\n",
       "      <td>10000</td>\n",
       "      <td>1</td>\n",
       "      <td>9.59</td>\n",
       "      <td>1</td>\n",
       "      <td>Z</td>\n",
       "      <td>GetControlGroup</td>\n",
       "      <td>NaN</td>\n",
       "    </tr>\n",
       "    <tr>\n",
       "      <th>17282263</th>\n",
       "      <td>10000</td>\n",
       "      <td>1</td>\n",
       "      <td>9.59</td>\n",
       "      <td>1</td>\n",
       "      <td>Z</td>\n",
       "      <td>GetControlGroup</td>\n",
       "      <td>NaN</td>\n",
       "    </tr>\n",
       "  </tbody>\n",
       "</table>\n",
       "<p>17282264 rows × 7 columns</p>\n",
       "</div>"
      ],
      "text/plain": [
       "          game_id  winner  time  player species            event  \\\n",
       "0               0       1  0.00       0       T           Camera   \n",
       "1               0       1  0.00       1       T           Camera   \n",
       "2               0       1  0.02       0       T        Selection   \n",
       "3               0       1  0.02       0       T          Ability   \n",
       "4               0       1  0.14       0       T           Camera   \n",
       "...           ...     ...   ...     ...     ...              ...   \n",
       "17282259    10000       1  9.58       0       T      Right Click   \n",
       "17282260    10000       1  9.59       1       Z  GetControlGroup   \n",
       "17282261    10000       1  9.59       0       T          Ability   \n",
       "17282262    10000       1  9.59       1       Z  GetControlGroup   \n",
       "17282263    10000       1  9.59       1       Z  GetControlGroup   \n",
       "\n",
       "                                             event_contents  \n",
       "0                                   at (145.25, 21.5078125)  \n",
       "1                                   at (22.75, 147.0078125)  \n",
       "2                              ['OrbitalCommand [3080001]']  \n",
       "3                                         (1360) - TrainSCV  \n",
       "4                            at (142.99609375, 24.50390625)  \n",
       "...                                                     ...  \n",
       "17282259  Target: None [026C0001]; Location: (67.0, 14.5...  \n",
       "17282260                                                NaN  \n",
       "17282261                                  (1360) - TrainSCV  \n",
       "17282262                                                NaN  \n",
       "17282263                                                NaN  \n",
       "\n",
       "[17282264 rows x 7 columns]"
      ]
     },
     "execution_count": 7,
     "metadata": {},
     "output_type": "execute_result"
    }
   ],
   "source": [
    "train"
   ]
  },
  {
   "cell_type": "code",
   "execution_count": 8,
   "metadata": {},
   "outputs": [],
   "source": [
    "def species_converter(string):\n",
    "    if string == 'T':\n",
    "        return 0\n",
    "    elif string == 'P':\n",
    "        return 1\n",
    "    elif string == 'Z':\n",
    "        return 2\n",
    "    else:\n",
    "        raise ValueError\n",
    "\n",
    "def data_preparation(df, answer=False):\n",
    "    game_ids = df['game_id'].unique()\n",
    "    events = ['Ability', 'AddToControlGroup', 'Camera', 'ControlGroup', 'GetControlGroup', 'Right Click', 'Selection', 'SetControlGroup']\n",
    "    unique_event_0, unique_event_1, delta_event = {}, {}, {}\n",
    "    for event in events:\n",
    "        unique_event_0['P0_' + event] = 0\n",
    "        unique_event_1['P1_' + event] = 0\n",
    "        delta_event['delta_' + event] = 0\n",
    "        \n",
    "    species = df.groupby(['game_id', 'player']).species.unique()\n",
    "    event_count = df.groupby(['game_id', 'player']).event.value_counts()\n",
    "    if answer:\n",
    "        winners = df.groupby(['game_id']).winner.max()\n",
    "    \n",
    "    x_data, y_data = [], []\n",
    "    for game_id in tqdm(game_ids):\n",
    "        df_event_count = event_count[game_id].unstack(level=-1)\n",
    "        df = pd.DataFrame(species[game_id])\n",
    "        df = pd.concat([df, df_event_count], axis=1)   \n",
    "        df = df.fillna(0)\n",
    "        \n",
    "        df_P0_species = pd.DataFrame([species_converter(df.loc[0]['species'][0])], columns=['P0_species'])        \n",
    "        df_P1_species = pd.DataFrame([species_converter(df.loc[1]['species'][0])], columns=['P1_species'])\n",
    "        df = df.drop(['species'], axis=1)\n",
    "\n",
    "        df_P0_event = unique_event_0.copy()\n",
    "        for column in df.columns:\n",
    "            df_P0_event['P0_' + column] = df.loc[0][column]\n",
    "        df_P0_event = pd.DataFrame(pd.Series(df_P0_event)).T\n",
    "\n",
    "        df_P1_event = unique_event_1.copy()\n",
    "        for column in df.columns:\n",
    "            df_P1_event['P1_' + column] = df.loc[1][column]\n",
    "        df_P1_event = pd.DataFrame(pd.Series(df_P1_event)).T\n",
    "        \n",
    "        df_delta_event = delta_event.copy()\n",
    "        for column in df.columns:\n",
    "            df_delta_event['delta_' + column] = df_P0_event['P0_' + column][0] - df_P1_event['P1_' + column][0]\n",
    "        df_delta_event = pd.DataFrame(pd.Series(df_delta_event)).T\n",
    "\n",
    "        out = pd.concat([df_P0_species, df_P0_event, df_P1_species, df_P1_event, df_delta_event], axis=1)\n",
    "        out.index = [game_id]\n",
    "        out.index.name = 'game_id'\n",
    "        \n",
    "        x_data.append(out)\n",
    "        if answer:\n",
    "            y_data.append(winners[game_id])  \n",
    "\n",
    "    x_data = pd.concat(x_data)\n",
    "    y_data = np.array(y_data)\n",
    "    \n",
    "    return x_data, y_data"
   ]
  },
  {
   "cell_type": "code",
   "execution_count": 9,
   "metadata": {},
   "outputs": [
    {
     "name": "stderr",
     "output_type": "stream",
     "text": [
      "100%|████████████████████████████████████████████████████████████████████████████| 10001/10001 [02:11<00:00, 75.89it/s]\n"
     ]
    },
    {
     "data": {
      "text/html": [
       "<div>\n",
       "<style scoped>\n",
       "    .dataframe tbody tr th:only-of-type {\n",
       "        vertical-align: middle;\n",
       "    }\n",
       "\n",
       "    .dataframe tbody tr th {\n",
       "        vertical-align: top;\n",
       "    }\n",
       "\n",
       "    .dataframe thead th {\n",
       "        text-align: right;\n",
       "    }\n",
       "</style>\n",
       "<table border=\"1\" class=\"dataframe\">\n",
       "  <thead>\n",
       "    <tr style=\"text-align: right;\">\n",
       "      <th></th>\n",
       "      <th>P0_species</th>\n",
       "      <th>P0_Ability</th>\n",
       "      <th>P0_AddToControlGroup</th>\n",
       "      <th>P0_Camera</th>\n",
       "      <th>P0_ControlGroup</th>\n",
       "      <th>P0_GetControlGroup</th>\n",
       "      <th>P0_Right Click</th>\n",
       "      <th>P0_Selection</th>\n",
       "      <th>P0_SetControlGroup</th>\n",
       "      <th>P1_species</th>\n",
       "      <th>...</th>\n",
       "      <th>P1_Selection</th>\n",
       "      <th>P1_SetControlGroup</th>\n",
       "      <th>delta_Ability</th>\n",
       "      <th>delta_AddToControlGroup</th>\n",
       "      <th>delta_Camera</th>\n",
       "      <th>delta_ControlGroup</th>\n",
       "      <th>delta_GetControlGroup</th>\n",
       "      <th>delta_Right Click</th>\n",
       "      <th>delta_Selection</th>\n",
       "      <th>delta_SetControlGroup</th>\n",
       "    </tr>\n",
       "    <tr>\n",
       "      <th>game_id</th>\n",
       "      <th></th>\n",
       "      <th></th>\n",
       "      <th></th>\n",
       "      <th></th>\n",
       "      <th></th>\n",
       "      <th></th>\n",
       "      <th></th>\n",
       "      <th></th>\n",
       "      <th></th>\n",
       "      <th></th>\n",
       "      <th></th>\n",
       "      <th></th>\n",
       "      <th></th>\n",
       "      <th></th>\n",
       "      <th></th>\n",
       "      <th></th>\n",
       "      <th></th>\n",
       "      <th></th>\n",
       "      <th></th>\n",
       "      <th></th>\n",
       "      <th></th>\n",
       "    </tr>\n",
       "  </thead>\n",
       "  <tbody>\n",
       "    <tr>\n",
       "      <th>0</th>\n",
       "      <td>0</td>\n",
       "      <td>34.00</td>\n",
       "      <td>2.00</td>\n",
       "      <td>444.00</td>\n",
       "      <td>0.00</td>\n",
       "      <td>24.00</td>\n",
       "      <td>35.00</td>\n",
       "      <td>50.00</td>\n",
       "      <td>3.00</td>\n",
       "      <td>0</td>\n",
       "      <td>...</td>\n",
       "      <td>57.00</td>\n",
       "      <td>1.00</td>\n",
       "      <td>0.00</td>\n",
       "      <td>2.00</td>\n",
       "      <td>19.00</td>\n",
       "      <td>0.00</td>\n",
       "      <td>21.00</td>\n",
       "      <td>7.00</td>\n",
       "      <td>-7.00</td>\n",
       "      <td>2.00</td>\n",
       "    </tr>\n",
       "    <tr>\n",
       "      <th>1</th>\n",
       "      <td>1</td>\n",
       "      <td>77.00</td>\n",
       "      <td>1.00</td>\n",
       "      <td>627.00</td>\n",
       "      <td>0.00</td>\n",
       "      <td>162.00</td>\n",
       "      <td>160.00</td>\n",
       "      <td>186.00</td>\n",
       "      <td>10.00</td>\n",
       "      <td>0</td>\n",
       "      <td>...</td>\n",
       "      <td>116.00</td>\n",
       "      <td>8.00</td>\n",
       "      <td>10.00</td>\n",
       "      <td>1.00</td>\n",
       "      <td>-231.00</td>\n",
       "      <td>0.00</td>\n",
       "      <td>131.00</td>\n",
       "      <td>29.00</td>\n",
       "      <td>70.00</td>\n",
       "      <td>2.00</td>\n",
       "    </tr>\n",
       "    <tr>\n",
       "      <th>2</th>\n",
       "      <td>1</td>\n",
       "      <td>69.00</td>\n",
       "      <td>6.00</td>\n",
       "      <td>413.00</td>\n",
       "      <td>0.00</td>\n",
       "      <td>99.00</td>\n",
       "      <td>160.00</td>\n",
       "      <td>90.00</td>\n",
       "      <td>14.00</td>\n",
       "      <td>2</td>\n",
       "      <td>...</td>\n",
       "      <td>232.00</td>\n",
       "      <td>9.00</td>\n",
       "      <td>-16.00</td>\n",
       "      <td>1.00</td>\n",
       "      <td>-312.00</td>\n",
       "      <td>-2.00</td>\n",
       "      <td>-10.00</td>\n",
       "      <td>-44.00</td>\n",
       "      <td>-142.00</td>\n",
       "      <td>5.00</td>\n",
       "    </tr>\n",
       "    <tr>\n",
       "      <th>3</th>\n",
       "      <td>0</td>\n",
       "      <td>82.00</td>\n",
       "      <td>0.00</td>\n",
       "      <td>713.00</td>\n",
       "      <td>0.00</td>\n",
       "      <td>132.00</td>\n",
       "      <td>276.00</td>\n",
       "      <td>180.00</td>\n",
       "      <td>6.00</td>\n",
       "      <td>1</td>\n",
       "      <td>...</td>\n",
       "      <td>148.00</td>\n",
       "      <td>19.00</td>\n",
       "      <td>-7.00</td>\n",
       "      <td>0.00</td>\n",
       "      <td>325.00</td>\n",
       "      <td>0.00</td>\n",
       "      <td>-578.00</td>\n",
       "      <td>8.00</td>\n",
       "      <td>32.00</td>\n",
       "      <td>-13.00</td>\n",
       "    </tr>\n",
       "    <tr>\n",
       "      <th>4</th>\n",
       "      <td>0</td>\n",
       "      <td>57.00</td>\n",
       "      <td>1.00</td>\n",
       "      <td>430.00</td>\n",
       "      <td>0.00</td>\n",
       "      <td>224.00</td>\n",
       "      <td>177.00</td>\n",
       "      <td>67.00</td>\n",
       "      <td>10.00</td>\n",
       "      <td>2</td>\n",
       "      <td>...</td>\n",
       "      <td>126.00</td>\n",
       "      <td>8.00</td>\n",
       "      <td>21.00</td>\n",
       "      <td>-3.00</td>\n",
       "      <td>158.00</td>\n",
       "      <td>0.00</td>\n",
       "      <td>125.00</td>\n",
       "      <td>71.00</td>\n",
       "      <td>-59.00</td>\n",
       "      <td>2.00</td>\n",
       "    </tr>\n",
       "  </tbody>\n",
       "</table>\n",
       "<p>5 rows × 26 columns</p>\n",
       "</div>"
      ],
      "text/plain": [
       "         P0_species  P0_Ability  P0_AddToControlGroup  P0_Camera  \\\n",
       "game_id                                                            \n",
       "0                 0       34.00                  2.00     444.00   \n",
       "1                 1       77.00                  1.00     627.00   \n",
       "2                 1       69.00                  6.00     413.00   \n",
       "3                 0       82.00                  0.00     713.00   \n",
       "4                 0       57.00                  1.00     430.00   \n",
       "\n",
       "         P0_ControlGroup  P0_GetControlGroup  P0_Right Click  P0_Selection  \\\n",
       "game_id                                                                      \n",
       "0                   0.00               24.00           35.00         50.00   \n",
       "1                   0.00              162.00          160.00        186.00   \n",
       "2                   0.00               99.00          160.00         90.00   \n",
       "3                   0.00              132.00          276.00        180.00   \n",
       "4                   0.00              224.00          177.00         67.00   \n",
       "\n",
       "         P0_SetControlGroup  P1_species  ...  P1_Selection  \\\n",
       "game_id                                  ...                 \n",
       "0                      3.00           0  ...         57.00   \n",
       "1                     10.00           0  ...        116.00   \n",
       "2                     14.00           2  ...        232.00   \n",
       "3                      6.00           1  ...        148.00   \n",
       "4                     10.00           2  ...        126.00   \n",
       "\n",
       "         P1_SetControlGroup  delta_Ability  delta_AddToControlGroup  \\\n",
       "game_id                                                               \n",
       "0                      1.00           0.00                     2.00   \n",
       "1                      8.00          10.00                     1.00   \n",
       "2                      9.00         -16.00                     1.00   \n",
       "3                     19.00          -7.00                     0.00   \n",
       "4                      8.00          21.00                    -3.00   \n",
       "\n",
       "         delta_Camera  delta_ControlGroup  delta_GetControlGroup  \\\n",
       "game_id                                                            \n",
       "0               19.00                0.00                  21.00   \n",
       "1             -231.00                0.00                 131.00   \n",
       "2             -312.00               -2.00                 -10.00   \n",
       "3              325.00                0.00                -578.00   \n",
       "4              158.00                0.00                 125.00   \n",
       "\n",
       "         delta_Right Click  delta_Selection  delta_SetControlGroup  \n",
       "game_id                                                             \n",
       "0                     7.00            -7.00                   2.00  \n",
       "1                    29.00            70.00                   2.00  \n",
       "2                   -44.00          -142.00                   5.00  \n",
       "3                     8.00            32.00                 -13.00  \n",
       "4                    71.00           -59.00                   2.00  \n",
       "\n",
       "[5 rows x 26 columns]"
      ]
     },
     "execution_count": 9,
     "metadata": {},
     "output_type": "execute_result"
    }
   ],
   "source": [
    "x_train, y_train = data_preparation(train, answer=True)\n",
    "x_train.head()"
   ]
  },
  {
   "cell_type": "code",
   "execution_count": 10,
   "metadata": {},
   "outputs": [],
   "source": [
    "def lgb_cv(num_leaves, learning_rate, n_estimators, subsample, colsample_bytree, reg_alpha, reg_lambda, x_data=None, y_data=None, n_splits=5, output='score'):\n",
    "    score = 0\n",
    "    kf = KFold(n_splits=n_splits)\n",
    "    models = []\n",
    "    for train_index, valid_index in kf.split(x_data):\n",
    "        x_train, y_train = x_data.iloc[train_index], y_data[train_index]\n",
    "        x_valid, y_valid = x_data.iloc[valid_index], y_data[valid_index]\n",
    "        \n",
    "        model = lgb.LGBMClassifier(\n",
    "            num_leaves = int(num_leaves), \n",
    "            learning_rate = learning_rate, \n",
    "            n_estimators = int(n_estimators), \n",
    "            subsample = np.clip(subsample, 0, 1), \n",
    "            colsample_bytree = np.clip(colsample_bytree, 0, 1), \n",
    "            reg_alpha = reg_alpha, \n",
    "            reg_lambda = reg_lambda,\n",
    "        )\n",
    "        \n",
    "        model.fit(x_train, y_train)\n",
    "        models.append(model)\n",
    "        \n",
    "        pred = model.predict_proba(x_valid)[:, 1]\n",
    "        true = y_valid\n",
    "        score += roc_auc_score(true, pred)/n_splits\n",
    "    \n",
    "    if output == 'score':\n",
    "        return score\n",
    "    if output == 'model':\n",
    "        return models"
   ]
  },
  {
   "cell_type": "code",
   "execution_count": 11,
   "metadata": {},
   "outputs": [
    {
     "name": "stdout",
     "output_type": "stream",
     "text": [
      "|   iter    |  target   | colsam... | learni... | n_esti... | num_le... | reg_alpha | reg_la... | subsample |\n",
      "-------------------------------------------------------------------------------------------------------------\n",
      "| \u001b[0m 1       \u001b[0m | \u001b[0m 0.5956  \u001b[0m | \u001b[0m 0.0708  \u001b[0m | \u001b[0m 0.08152 \u001b[0m | \u001b[0m 790.0   \u001b[0m | \u001b[0m 304.6   \u001b[0m | \u001b[0m 1.931   \u001b[0m | \u001b[0m 48.95   \u001b[0m | \u001b[0m 0.4062  \u001b[0m |\n",
      "| \u001b[95m 2       \u001b[0m | \u001b[95m 0.6206  \u001b[0m | \u001b[95m 0.7578  \u001b[0m | \u001b[95m 0.009006\u001b[0m | \u001b[95m 328.4   \u001b[0m | \u001b[95m 639.9   \u001b[0m | \u001b[95m 4.599   \u001b[0m | \u001b[95m 10.92   \u001b[0m | \u001b[95m 0.6635  \u001b[0m |\n",
      "| \u001b[0m 3       \u001b[0m | \u001b[0m 0.6035  \u001b[0m | \u001b[0m 0.6787  \u001b[0m | \u001b[0m 0.09504 \u001b[0m | \u001b[0m 299.5   \u001b[0m | \u001b[0m 640.8   \u001b[0m | \u001b[0m 3.833   \u001b[0m | \u001b[0m 20.02   \u001b[0m | \u001b[0m 0.9427  \u001b[0m |\n",
      "| \u001b[0m 4       \u001b[0m | \u001b[0m 0.5999  \u001b[0m | \u001b[0m 0.9299  \u001b[0m | \u001b[0m 0.09484 \u001b[0m | \u001b[0m 394.5   \u001b[0m | \u001b[0m 361.0   \u001b[0m | \u001b[0m 6.648   \u001b[0m | \u001b[0m 2.116   \u001b[0m | \u001b[0m 0.2322  \u001b[0m |\n",
      "| \u001b[0m 5       \u001b[0m | \u001b[0m 0.6172  \u001b[0m | \u001b[0m 0.4301  \u001b[0m | \u001b[0m 0.007886\u001b[0m | \u001b[0m 788.7   \u001b[0m | \u001b[0m 876.7   \u001b[0m | \u001b[0m 1.504   \u001b[0m | \u001b[0m 5.057   \u001b[0m | \u001b[0m 0.2709  \u001b[0m |\n",
      "| \u001b[95m 6       \u001b[0m | \u001b[95m 0.6232  \u001b[0m | \u001b[95m 0.3634  \u001b[0m | \u001b[95m 0.01062 \u001b[0m | \u001b[95m 1.023e+0\u001b[0m | \u001b[95m 44.64   \u001b[0m | \u001b[95m 7.323   \u001b[0m | \u001b[95m 0.824   \u001b[0m | \u001b[95m 0.7852  \u001b[0m |\n",
      "| \u001b[0m 7       \u001b[0m | \u001b[0m 0.6084  \u001b[0m | \u001b[0m 0.9608  \u001b[0m | \u001b[0m 0.02043 \u001b[0m | \u001b[0m 27.04   \u001b[0m | \u001b[0m 1.023e+0\u001b[0m | \u001b[0m 3.621   \u001b[0m | \u001b[0m 6.104   \u001b[0m | \u001b[0m 0.5903  \u001b[0m |\n",
      "| \u001b[0m 8       \u001b[0m | \u001b[0m 0.6184  \u001b[0m | \u001b[0m 0.5643  \u001b[0m | \u001b[0m 0.001705\u001b[0m | \u001b[0m 487.9   \u001b[0m | \u001b[0m 1.024e+0\u001b[0m | \u001b[0m 5.489   \u001b[0m | \u001b[0m 4.726   \u001b[0m | \u001b[0m 0.6895  \u001b[0m |\n",
      "| \u001b[0m 9       \u001b[0m | \u001b[0m 0.6124  \u001b[0m | \u001b[0m 0.1507  \u001b[0m | \u001b[0m 0.02209 \u001b[0m | \u001b[0m 1.022e+0\u001b[0m | \u001b[0m 426.3   \u001b[0m | \u001b[0m 6.593   \u001b[0m | \u001b[0m 2.049   \u001b[0m | \u001b[0m 0.4926  \u001b[0m |\n",
      "| \u001b[0m 10      \u001b[0m | \u001b[0m 0.6048  \u001b[0m | \u001b[0m 0.1155  \u001b[0m | \u001b[0m 0.03479 \u001b[0m | \u001b[0m 639.6   \u001b[0m | \u001b[0m 638.4   \u001b[0m | \u001b[0m 3.478   \u001b[0m | \u001b[0m 1.21    \u001b[0m | \u001b[0m 0.7742  \u001b[0m |\n",
      "| \u001b[0m 11      \u001b[0m | \u001b[0m 0.6191  \u001b[0m | \u001b[0m 0.6794  \u001b[0m | \u001b[0m 0.01803 \u001b[0m | \u001b[0m 36.06   \u001b[0m | \u001b[0m 23.13   \u001b[0m | \u001b[0m 5.467   \u001b[0m | \u001b[0m 3.656   \u001b[0m | \u001b[0m 0.02546 \u001b[0m |\n",
      "| \u001b[0m 12      \u001b[0m | \u001b[0m 0.6074  \u001b[0m | \u001b[0m 0.5823  \u001b[0m | \u001b[0m 0.09279 \u001b[0m | \u001b[0m 325.4   \u001b[0m | \u001b[0m 636.7   \u001b[0m | \u001b[0m 7.684   \u001b[0m | \u001b[0m 16.77   \u001b[0m | \u001b[0m 0.3027  \u001b[0m |\n",
      "| \u001b[0m 13      \u001b[0m | \u001b[0m 0.6133  \u001b[0m | \u001b[0m 0.8833  \u001b[0m | \u001b[0m 0.000964\u001b[0m | \u001b[0m 1.023e+0\u001b[0m | \u001b[0m 1.01e+03\u001b[0m | \u001b[0m 1.4     \u001b[0m | \u001b[0m 18.37   \u001b[0m | \u001b[0m 0.638   \u001b[0m |\n",
      "| \u001b[0m 14      \u001b[0m | \u001b[0m 0.607   \u001b[0m | \u001b[0m 0.7875  \u001b[0m | \u001b[0m 0.09069 \u001b[0m | \u001b[0m 544.6   \u001b[0m | \u001b[0m 647.5   \u001b[0m | \u001b[0m 7.761   \u001b[0m | \u001b[0m 14.73   \u001b[0m | \u001b[0m 0.3832  \u001b[0m |\n",
      "| \u001b[95m 15      \u001b[0m | \u001b[95m 0.6266  \u001b[0m | \u001b[95m 0.9953  \u001b[0m | \u001b[95m 0.009204\u001b[0m | \u001b[95m 462.6   \u001b[0m | \u001b[95m 16.13   \u001b[0m | \u001b[95m 7.276   \u001b[0m | \u001b[95m 1.731   \u001b[0m | \u001b[95m 0.7418  \u001b[0m |\n",
      "| \u001b[0m 16      \u001b[0m | \u001b[0m 0.6147  \u001b[0m | \u001b[0m 0.6532  \u001b[0m | \u001b[0m 0.009039\u001b[0m | \u001b[0m 35.89   \u001b[0m | \u001b[0m 578.5   \u001b[0m | \u001b[0m 2.369   \u001b[0m | \u001b[0m 13.64   \u001b[0m | \u001b[0m 0.995   \u001b[0m |\n",
      "| \u001b[0m 17      \u001b[0m | \u001b[0m 0.6123  \u001b[0m | \u001b[0m 0.9221  \u001b[0m | \u001b[0m 0.0939  \u001b[0m | \u001b[0m 755.1   \u001b[0m | \u001b[0m 34.99   \u001b[0m | \u001b[0m 9.553   \u001b[0m | \u001b[0m 0.1542  \u001b[0m | \u001b[0m 0.2507  \u001b[0m |\n",
      "| \u001b[0m 18      \u001b[0m | \u001b[0m 0.6168  \u001b[0m | \u001b[0m 0.6121  \u001b[0m | \u001b[0m 0.03204 \u001b[0m | \u001b[0m 33.57   \u001b[0m | \u001b[0m 579.7   \u001b[0m | \u001b[0m 5.256   \u001b[0m | \u001b[0m 13.04   \u001b[0m | \u001b[0m 0.08931 \u001b[0m |\n",
      "| \u001b[0m 19      \u001b[0m | \u001b[0m 0.6215  \u001b[0m | \u001b[0m 0.395   \u001b[0m | \u001b[0m 0.03434 \u001b[0m | \u001b[0m 33.02   \u001b[0m | \u001b[0m 847.7   \u001b[0m | \u001b[0m 2.898   \u001b[0m | \u001b[0m 1.466   \u001b[0m | \u001b[0m 0.2087  \u001b[0m |\n",
      "| \u001b[0m 20      \u001b[0m | \u001b[0m 0.6054  \u001b[0m | \u001b[0m 0.846   \u001b[0m | \u001b[0m 0.005927\u001b[0m | \u001b[0m 36.49   \u001b[0m | \u001b[0m 261.0   \u001b[0m | \u001b[0m 5.838   \u001b[0m | \u001b[0m 1.123   \u001b[0m | \u001b[0m 0.2492  \u001b[0m |\n",
      "| \u001b[0m 21      \u001b[0m | \u001b[0m 0.6014  \u001b[0m | \u001b[0m 0.5026  \u001b[0m | \u001b[0m 0.04769 \u001b[0m | \u001b[0m 1.017e+0\u001b[0m | \u001b[0m 172.9   \u001b[0m | \u001b[0m 1.753   \u001b[0m | \u001b[0m 47.51   \u001b[0m | \u001b[0m 0.3377  \u001b[0m |\n",
      "| \u001b[0m 22      \u001b[0m | \u001b[0m 0.6139  \u001b[0m | \u001b[0m 0.001829\u001b[0m | \u001b[0m 0.06006 \u001b[0m | \u001b[0m 36.43   \u001b[0m | \u001b[0m 21.42   \u001b[0m | \u001b[0m 8.911   \u001b[0m | \u001b[0m 6.796   \u001b[0m | \u001b[0m 0.6183  \u001b[0m |\n",
      "| \u001b[0m 23      \u001b[0m | \u001b[0m 0.6157  \u001b[0m | \u001b[0m 0.7775  \u001b[0m | \u001b[0m 0.002867\u001b[0m | \u001b[0m 735.5   \u001b[0m | \u001b[0m 1.02e+03\u001b[0m | \u001b[0m 0.8016  \u001b[0m | \u001b[0m 4.635   \u001b[0m | \u001b[0m 0.09759 \u001b[0m |\n",
      "| \u001b[0m 24      \u001b[0m | \u001b[0m 0.6172  \u001b[0m | \u001b[0m 0.1776  \u001b[0m | \u001b[0m 0.04932 \u001b[0m | \u001b[0m 349.4   \u001b[0m | \u001b[0m 849.9   \u001b[0m | \u001b[0m 8.711   \u001b[0m | \u001b[0m 0.2552  \u001b[0m | \u001b[0m 0.2304  \u001b[0m |\n",
      "| \u001b[0m 25      \u001b[0m | \u001b[0m 0.6002  \u001b[0m | \u001b[0m 0.4489  \u001b[0m | \u001b[0m 0.05007 \u001b[0m | \u001b[0m 1.016e+0\u001b[0m | \u001b[0m 764.0   \u001b[0m | \u001b[0m 3.876   \u001b[0m | \u001b[0m 0.9845  \u001b[0m | \u001b[0m 0.1039  \u001b[0m |\n",
      "| \u001b[0m 26      \u001b[0m | \u001b[0m 0.6002  \u001b[0m | \u001b[0m 0.356   \u001b[0m | \u001b[0m 0.03476 \u001b[0m | \u001b[0m 924.0   \u001b[0m | \u001b[0m 249.9   \u001b[0m | \u001b[0m 0.3975  \u001b[0m | \u001b[0m 0.6316  \u001b[0m | \u001b[0m 0.4853  \u001b[0m |\n",
      "| \u001b[0m 27      \u001b[0m | \u001b[0m 0.6196  \u001b[0m | \u001b[0m 0.8575  \u001b[0m | \u001b[0m 0.03953 \u001b[0m | \u001b[0m 220.7   \u001b[0m | \u001b[0m 31.25   \u001b[0m | \u001b[0m 0.9989  \u001b[0m | \u001b[0m 1.236   \u001b[0m | \u001b[0m 0.7721  \u001b[0m |\n",
      "| \u001b[0m 28      \u001b[0m | \u001b[0m 0.6143  \u001b[0m | \u001b[0m 0.3765  \u001b[0m | \u001b[0m 0.05104 \u001b[0m | \u001b[0m 1.014e+0\u001b[0m | \u001b[0m 18.5    \u001b[0m | \u001b[0m 5.975   \u001b[0m | \u001b[0m 49.2    \u001b[0m | \u001b[0m 0.5823  \u001b[0m |\n",
      "| \u001b[0m 29      \u001b[0m | \u001b[0m 0.5986  \u001b[0m | \u001b[0m 0.6666  \u001b[0m | \u001b[0m 0.03861 \u001b[0m | \u001b[0m 1.02e+03\u001b[0m | \u001b[0m 49.49   \u001b[0m | \u001b[0m 3.331   \u001b[0m | \u001b[0m 6.961   \u001b[0m | \u001b[0m 0.2177  \u001b[0m |\n",
      "| \u001b[0m 30      \u001b[0m | \u001b[0m 0.6245  \u001b[0m | \u001b[0m 0.7541  \u001b[0m | \u001b[0m 0.006396\u001b[0m | \u001b[0m 1.022e+0\u001b[0m | \u001b[0m 887.0   \u001b[0m | \u001b[0m 9.756   \u001b[0m | \u001b[0m 46.05   \u001b[0m | \u001b[0m 0.6069  \u001b[0m |\n",
      "| \u001b[0m 31      \u001b[0m | \u001b[0m 0.5952  \u001b[0m | \u001b[0m 0.7834  \u001b[0m | \u001b[0m 0.0963  \u001b[0m | \u001b[0m 333.1   \u001b[0m | \u001b[0m 639.9   \u001b[0m | \u001b[0m 3.268   \u001b[0m | \u001b[0m 8.905   \u001b[0m | \u001b[0m 0.6789  \u001b[0m |\n",
      "| \u001b[0m 32      \u001b[0m | \u001b[0m 0.6131  \u001b[0m | \u001b[0m 0.7102  \u001b[0m | \u001b[0m 0.007375\u001b[0m | \u001b[0m 32.03   \u001b[0m | \u001b[0m 854.9   \u001b[0m | \u001b[0m 6.874   \u001b[0m | \u001b[0m 4.147   \u001b[0m | \u001b[0m 0.4204  \u001b[0m |\n",
      "| \u001b[0m 33      \u001b[0m | \u001b[0m 0.6167  \u001b[0m | \u001b[0m 0.1079  \u001b[0m | \u001b[0m 0.0001  \u001b[0m | \u001b[0m 554.9   \u001b[0m | \u001b[0m 218.4   \u001b[0m | \u001b[0m 10.0    \u001b[0m | \u001b[0m 50.0    \u001b[0m | \u001b[0m 1.0     \u001b[0m |\n",
      "| \u001b[0m 34      \u001b[0m | \u001b[0m 0.6159  \u001b[0m | \u001b[0m 0.594   \u001b[0m | \u001b[0m 0.03182 \u001b[0m | \u001b[0m 35.82   \u001b[0m | \u001b[0m 576.9   \u001b[0m | \u001b[0m 0.2874  \u001b[0m | \u001b[0m 9.914   \u001b[0m | \u001b[0m 0.5074  \u001b[0m |\n",
      "| \u001b[0m 35      \u001b[0m | \u001b[0m 0.6207  \u001b[0m | \u001b[0m 0.2996  \u001b[0m | \u001b[0m 0.06274 \u001b[0m | \u001b[0m 225.6   \u001b[0m | \u001b[0m 1.024e+0\u001b[0m | \u001b[0m 9.272   \u001b[0m | \u001b[0m 14.54   \u001b[0m | \u001b[0m 0.3896  \u001b[0m |\n",
      "=============================================================================================================\n"
     ]
    }
   ],
   "source": [
    "# 모델과 관련없는 변수 고정\n",
    "func_fixed = partial(lgb_cv, x_data=x_train, y_data=y_train, n_splits=5, output='score') \n",
    "# 베이지안 최적화 범위 설정\n",
    "lgbBO = BayesianOptimization(\n",
    "    func_fixed, \n",
    "    {\n",
    "        'num_leaves': (16, 1024),        # num_leaves,       범위(16~1024)\n",
    "        'learning_rate': (0.0001, 0.1),  # learning_rate,    범위(0.0001~0.1)\n",
    "        'n_estimators': (16, 1024),      # n_estimators,     범위(16~1024)\n",
    "        'subsample': (0, 1),             # subsample,        범위(0~1)\n",
    "        'colsample_bytree': (0, 1),      # colsample_bytree, 범위(0~1)\n",
    "        'reg_alpha': (0, 10),            # reg_alpha,        범위(0~10)\n",
    "        'reg_lambda': (0, 50),           # reg_lambda,       범위(0~50)\n",
    "    }, \n",
    "    random_state=4321                    # 시드 고정\n",
    ")\n",
    "lgbBO.maximize(init_points=5, n_iter=30) # 처음 5회 랜덤 값으로 score 계산 후 30회 최적화\n",
    "\n",
    "# 이 예제에서는 7개 하이퍼 파라미터에 대해 30회 조정을 시도했습니다.\n",
    "# 다양한 하이퍼 파라미터, 더 많은 iteration을 시도하여 최상의 모델을 얻어보세요!\n",
    "# LightGBM Classifier: https://lightgbm.readthedocs.io/en/latest/pythonapi/lightgbm.LGBMClassifier.html"
   ]
  },
  {
   "cell_type": "code",
   "execution_count": 12,
   "metadata": {},
   "outputs": [],
   "source": [
    "params = lgbBO.max['params']\n",
    "models = lgb_cv(\n",
    "    params['num_leaves'], \n",
    "    params['learning_rate'], \n",
    "    params['n_estimators'], \n",
    "    params['subsample'], \n",
    "    params['colsample_bytree'], \n",
    "    params['reg_alpha'], \n",
    "    params['reg_lambda'], \n",
    "    x_data=x_train, y_data=y_train, n_splits=5, output='model')"
   ]
  },
  {
   "cell_type": "code",
   "execution_count": 13,
   "metadata": {},
   "outputs": [
    {
     "name": "stderr",
     "output_type": "stream",
     "text": [
      "100%|████████████████████████████████████████████████████████████████████████████| 16787/16787 [03:49<00:00, 73.16it/s]\n"
     ]
    }
   ],
   "source": [
    "test = pd.read_csv('data/test.csv')\n",
    "x_test, _ = data_preparation(test, answer=False)"
   ]
  },
  {
   "cell_type": "code",
   "execution_count": 14,
   "metadata": {},
   "outputs": [],
   "source": [
    "preds = []\n",
    "for model in models:\n",
    "    pred = model.predict_proba(x_test)[:, 1]\n",
    "    preds.append(pred)\n",
    "pred = np.mean(preds, axis=0)"
   ]
  },
  {
   "cell_type": "code",
   "execution_count": 15,
   "metadata": {},
   "outputs": [
    {
     "data": {
      "text/html": [
       "<div>\n",
       "<style scoped>\n",
       "    .dataframe tbody tr th:only-of-type {\n",
       "        vertical-align: middle;\n",
       "    }\n",
       "\n",
       "    .dataframe tbody tr th {\n",
       "        vertical-align: top;\n",
       "    }\n",
       "\n",
       "    .dataframe thead th {\n",
       "        text-align: right;\n",
       "    }\n",
       "</style>\n",
       "<table border=\"1\" class=\"dataframe\">\n",
       "  <thead>\n",
       "    <tr style=\"text-align: right;\">\n",
       "      <th></th>\n",
       "      <th>winner</th>\n",
       "    </tr>\n",
       "    <tr>\n",
       "      <th>game_id</th>\n",
       "      <th></th>\n",
       "    </tr>\n",
       "  </thead>\n",
       "  <tbody>\n",
       "    <tr>\n",
       "      <th>38872</th>\n",
       "      <td>0.56</td>\n",
       "    </tr>\n",
       "    <tr>\n",
       "      <th>38873</th>\n",
       "      <td>0.51</td>\n",
       "    </tr>\n",
       "    <tr>\n",
       "      <th>38874</th>\n",
       "      <td>0.47</td>\n",
       "    </tr>\n",
       "    <tr>\n",
       "      <th>38875</th>\n",
       "      <td>0.36</td>\n",
       "    </tr>\n",
       "    <tr>\n",
       "      <th>38876</th>\n",
       "      <td>0.45</td>\n",
       "    </tr>\n",
       "  </tbody>\n",
       "</table>\n",
       "</div>"
      ],
      "text/plain": [
       "         winner\n",
       "game_id        \n",
       "38872      0.56\n",
       "38873      0.51\n",
       "38874      0.47\n",
       "38875      0.36\n",
       "38876      0.45"
      ]
     },
     "execution_count": 15,
     "metadata": {},
     "output_type": "execute_result"
    }
   ],
   "source": [
    "submission = pd.read_csv('data/sample_submission.csv', index_col=0)\n",
    "submission['winner'] = submission['winner'] + pred\n",
    "submission.to_csv('submission.csv')\n",
    "submission.head()"
   ]
  },
  {
   "cell_type": "markdown",
   "metadata": {},
   "source": [
    "-------------------------------------------------------------------------------"
   ]
  },
  {
   "cell_type": "markdown",
   "metadata": {},
   "source": [
    "## APM\n",
    "1분에 몇번을 움직였는지?"
   ]
  },
  {
   "cell_type": "code",
   "execution_count": null,
   "metadata": {
    "scrolled": true
   },
   "outputs": [],
   "source": [
    "df['game_id'].max()"
   ]
  },
  {
   "cell_type": "code",
   "execution_count": null,
   "metadata": {
    "scrolled": true
   },
   "outputs": [],
   "source": [
    "x_train['P0_APM'] = 0\n",
    "x_train['P1_APM'] = 0\n",
    "x_train"
   ]
  },
  {
   "cell_type": "code",
   "execution_count": null,
   "metadata": {
    "scrolled": true
   },
   "outputs": [],
   "source": [
    "x_test['P0_APM'] = 0\n",
    "x_test['P1_APM'] = 0\n",
    "x_test"
   ]
  },
  {
   "cell_type": "code",
   "execution_count": null,
   "metadata": {},
   "outputs": [],
   "source": [
    "x_train.columns"
   ]
  },
  {
   "cell_type": "code",
   "execution_count": null,
   "metadata": {},
   "outputs": [],
   "source": [
    "x_train.index.max()"
   ]
  },
  {
   "cell_type": "code",
   "execution_count": null,
   "metadata": {},
   "outputs": [],
   "source": [
    "x_train['P0_APM'] = x_train['P0_APM'].index"
   ]
  },
  {
   "cell_type": "code",
   "execution_count": null,
   "metadata": {},
   "outputs": [],
   "source": [
    "x_train['P1_APM'] = x_train['P1_APM'].index"
   ]
  },
  {
   "cell_type": "code",
   "execution_count": null,
   "metadata": {},
   "outputs": [],
   "source": [
    "def p0_apm(i):  \n",
    "    return x_train.iloc[i, [1, 2, 4, 5, 6, 7, 8]].sum() / train.loc[train['game_id']==i, 'time'].max()\n",
    "\n",
    "\n",
    "def p1_apm(i):\n",
    "    return x_train.iloc[i, [10, 11, 13, 14, 15, 16, 17]].sum() / train.loc[train['game_id']==i, 'time'].max()"
   ]
  },
  {
   "cell_type": "code",
   "execution_count": null,
   "metadata": {},
   "outputs": [],
   "source": [
    "x_train['P0_APM'] = x_train['P0_APM'].apply(p0_apm)\n",
    "x_train['P1_APM'] = x_train['P1_APM'].apply(p1_apm)"
   ]
  },
  {
   "cell_type": "code",
   "execution_count": null,
   "metadata": {},
   "outputs": [],
   "source": [
    "apm = np.arange(len(x_test))"
   ]
  },
  {
   "cell_type": "code",
   "execution_count": null,
   "metadata": {},
   "outputs": [],
   "source": [
    "x_test['P0_APM'] = apm"
   ]
  },
  {
   "cell_type": "code",
   "execution_count": null,
   "metadata": {},
   "outputs": [],
   "source": [
    "x_test['P1_APM'] = apm"
   ]
  },
  {
   "cell_type": "code",
   "execution_count": null,
   "metadata": {},
   "outputs": [],
   "source": [
    "x_test"
   ]
  },
  {
   "cell_type": "code",
   "execution_count": null,
   "metadata": {},
   "outputs": [],
   "source": [
    "# time은 데이터프레임에서 가져오지 말고, 시리즈를 변수에 할당시키는 방법이 낫다.\n",
    "test_time = test.groupby('game_id')['time'].max()\n",
    "test_time"
   ]
  },
  {
   "cell_type": "code",
   "execution_count": null,
   "metadata": {},
   "outputs": [],
   "source": [
    "def p0_apm(i):  \n",
    "    return x_test.iloc[i, [1, 2, 4, 5, 6, 7, 8]].sum() / test_time.iloc[i]\n",
    "\n",
    "\n",
    "def p1_apm(i):\n",
    "    return x_test.iloc[i, [10, 11, 13, 14, 15, 16, 17]].sum() / test_time.iloc[i]"
   ]
  },
  {
   "cell_type": "code",
   "execution_count": null,
   "metadata": {},
   "outputs": [],
   "source": [
    "x_test['P0_APM'] = x_test['P0_APM'].apply(p0_apm)\n",
    "x_test['P1_APM'] = x_test['P1_APM'].apply(p1_apm)"
   ]
  },
  {
   "cell_type": "code",
   "execution_count": null,
   "metadata": {},
   "outputs": [],
   "source": [
    "x_test"
   ]
  },
  {
   "cell_type": "code",
   "execution_count": null,
   "metadata": {
    "scrolled": true
   },
   "outputs": [],
   "source": [
    "x_train"
   ]
  },
  {
   "cell_type": "code",
   "execution_count": null,
   "metadata": {},
   "outputs": [],
   "source": [
    "x_train['delta_APM'] = x_train['P0_APM'] - x_train['P1_APM']"
   ]
  },
  {
   "cell_type": "code",
   "execution_count": null,
   "metadata": {},
   "outputs": [],
   "source": [
    "x_test['delta_APM'] = x_test['P0_APM'] - x_test['P1_APM']"
   ]
  },
  {
   "cell_type": "code",
   "execution_count": null,
   "metadata": {},
   "outputs": [],
   "source": [
    "def apm_abstract_train(x):\n",
    "    if x >= 0:\n",
    "        return 0\n",
    "    else:\n",
    "        return 1\n",
    "x_train['APM_versus'] = x_train['delta_APM'].apply(apm_abstract_train)\n",
    "        "
   ]
  },
  {
   "cell_type": "code",
   "execution_count": null,
   "metadata": {},
   "outputs": [],
   "source": [
    "def apm_abstract_test(x):\n",
    "    if x >= 0:\n",
    "        return 0\n",
    "    else:\n",
    "        return 1\n",
    "x_test['APM_versus'] = x_test['delta_APM'].apply(apm_abstract_test)\n",
    "        "
   ]
  },
  {
   "cell_type": "code",
   "execution_count": null,
   "metadata": {},
   "outputs": [],
   "source": [
    "# APM차이와 winner의 상관관계를 파악\n",
    "corr_train = pd.DataFrame()\n",
    "corr_train['winner'] = y_train\n",
    "corr_train['APM_versus'] = x_train['APM_versus']\n",
    "corr_train['P0_APM'] = x_train['P0_APM']\n",
    "corr_train['P1_APM'] = x_train['P1_APM']\n",
    "corr_train.info()"
   ]
  },
  {
   "cell_type": "code",
   "execution_count": null,
   "metadata": {},
   "outputs": [],
   "source": [
    "corr_train.corr()"
   ]
  },
  {
   "cell_type": "code",
   "execution_count": null,
   "metadata": {},
   "outputs": [],
   "source": [
    "sns.heatmap(corr_train.corr(), annot=True, cmap='RdYlGn', linewidths=0.2, annot_kws={'size':35})\n",
    "fig = plt.gcf()\n",
    "\n",
    "fig.set_size_inches(18, 15)\n",
    "#plt.xticks(fontsize=14)\n",
    "plt.show()"
   ]
  },
  {
   "cell_type": "code",
   "execution_count": null,
   "metadata": {},
   "outputs": [],
   "source": [
    "x_train.iloc[1, [1,2,4,5,6,7,8]].sum() / train.loc[train['game_id']==1, 'time'].max()"
   ]
  },
  {
   "cell_type": "code",
   "execution_count": null,
   "metadata": {},
   "outputs": [],
   "source": [
    "train.loc[train['game_id']==1, 'time'].max()"
   ]
  },
  {
   "cell_type": "code",
   "execution_count": null,
   "metadata": {},
   "outputs": [],
   "source": [
    "x_train.iloc[1,[1,2,4,5,6,7,8]].sum() / 9.59"
   ]
  },
  {
   "cell_type": "code",
   "execution_count": null,
   "metadata": {},
   "outputs": [],
   "source": [
    "def apm(df):\n",
    "    if \n",
    "    len(df[(df['game_id']==num) & (df['player'] == 0) & (df['event'] != 'Camera')]) / (df.loc[df['game_id'] == 1, 'time'].max())\n",
    "    len(df[(df['game_id']==num) & (df['player'] == 1) & (df['event'] != 'Camera')]) / (df.loc[df['game_id'] == 1, 'time'].max())\n",
    "        "
   ]
  },
  {
   "cell_type": "code",
   "execution_count": null,
   "metadata": {},
   "outputs": [],
   "source": [
    "# 1번방의 플레이어0의 APM\n",
    "len(df[(df['game_id']==1) & (df['player'] == 0) & (df['event'] != 'Camera')]) / (df.loc[df['game_id'] == 1, 'time'].max())"
   ]
  },
  {
   "cell_type": "code",
   "execution_count": null,
   "metadata": {},
   "outputs": [],
   "source": [
    "# 1번방의 플레이어1의 APM\n",
    "len(df[(df['game_id']==1) & (df['player'] == 1) & (df['event'] != 'Camera')]) / (df.loc[df['game_id'] == 1, 'time'].max())"
   ]
  },
  {
   "cell_type": "code",
   "execution_count": null,
   "metadata": {
    "scrolled": true
   },
   "outputs": [],
   "source": [
    "df[(df['game_id']==1) & (df['player'] == 1) & (df['event'] != 'Camera')]"
   ]
  },
  {
   "cell_type": "markdown",
   "metadata": {},
   "source": [
    "# 일꾼 생산"
   ]
  },
  {
   "cell_type": "code",
   "execution_count": null,
   "metadata": {},
   "outputs": [],
   "source": [
    "# 플레이어별 카메라 움직임 스캐터로 표현\n",
    "\n",
    "def plot_camera(df, game_id):\n",
    "    df = df.loc[df['game_id']==game_id] # 입력한 게임 방\n",
    "    df = df.loc[df['event']=='Camera'] # 그 방에서 카메라 부분만\n",
    "    df_0 = df.loc[df['player']==0] # 그 방에서 플레이어 0\n",
    "    df_1 = df.loc[df['player']==1] # 그 방에서 플레이어 1\n",
    "\n",
    "    winner = df['winner'].iloc[0] # 그 방에서 위너에서 가장 위에 뜨는 플레이어(승리자)\n",
    "    game_time = df['time'].values[-1] # 시간에서 가장 마지막 시간(총 게임 시간)\n",
    "    player_0_species = df_0['species'].iloc[0] # 해당 게임 0플레이어 종족\n",
    "    player_1_species = df_1['species'].iloc[0] # 해당 게임 1플레이어 종족 \n",
    "\n",
    "    player_0_camera = np.array([item.replace('at (', '').replace(')', '').split(',') for item in df_0['event_contents']]).astype(float)\n",
    "    player_1_camera = np.array([item.replace('at (', '').replace(')', '').split(',') for item in df_1['event_contents']]).astype(float)\n",
    "    \n",
    "    plt.scatter(player_0_camera[:, 0], player_0_camera[:, 1], label='player_0', alpha=0.3, color='b', s=50)\n",
    "    plt.scatter(player_1_camera[:, 0], player_1_camera[:, 1], label='player_1', alpha=0.3, color='r', s=50)\n",
    "    plt.legend()\n",
    "    plt.show()\n",
    "    \n",
    "    print('Total game time: %s'%(game_time))\n",
    "    print('Winner: Player_%i'%(winner))\n",
    "    print('Player_0: %s'%(player_0_species))\n",
    "    print('Player_1: %s'%(player_1_species))"
   ]
  },
  {
   "cell_type": "markdown",
   "metadata": {},
   "source": [
    "## 승리자와 가까운 카메라 위치"
   ]
  },
  {
   "cell_type": "code",
   "execution_count": null,
   "metadata": {},
   "outputs": [],
   "source": [
    "df[(df['game_id'] == 1) & (df['event'] == 'Camera')].head(2)"
   ]
  },
  {
   "cell_type": "code",
   "execution_count": null,
   "metadata": {},
   "outputs": [],
   "source": [
    "df[(df['game_id'] == 1) & (df['event'] == 'Camera')].tail(10)"
   ]
  },
  {
   "cell_type": "markdown",
   "metadata": {},
   "source": [
    "# 카메라 시점"
   ]
  },
  {
   "cell_type": "code",
   "execution_count": null,
   "metadata": {},
   "outputs": [],
   "source": [
    "# 패턴으로 x축 y축만 리스트로 추출\n",
    "import re\n",
    "\n",
    "def get_vector(tokken):\n",
    "    pattern = '\\d*[.]\\d*'\n",
    "    pat = re.compile(pattern)\n",
    "    result = pat.findall(str(tokken))\n",
    "    result = [float(i) for i in result]\n",
    "    return np.array(result, dtype=np.float32)"
   ]
  },
  {
   "cell_type": "code",
   "execution_count": null,
   "metadata": {},
   "outputs": [],
   "source": [
    "df_camera['event_contents'] = df_camera['event_contents'].apply(get_vector)\n",
    "df[df['event'] == 'Camera'] = df_camera"
   ]
  },
  {
   "cell_type": "code",
   "execution_count": null,
   "metadata": {
    "scrolled": true
   },
   "outputs": [],
   "source": [
    "abs(df_one.iloc[-1, 6] - df_one.iloc[0, 6])"
   ]
  },
  {
   "cell_type": "code",
   "execution_count": null,
   "metadata": {},
   "outputs": [],
   "source": [
    "# 플레이어별 카메라 움직임 스캐터로 표현\n",
    "\n",
    "def plot_camera(df, game_id):\n",
    "    df = df.loc[(df['game_id']==game_id) & (df['event']=='Camera')] # 입력한 게임 방\n",
    "    df_0 = df.loc[df['player']==0] # 그 방에서 플레이어 0\n",
    "    df_1 = df.loc[df['player']==1] # 그 방에서 플레이어 1\n",
    "\n",
    "    winner = df['winner'].iloc[0] # 그 방에서 위너에서 가장 위에 뜨는 플레이어(승리자)\n",
    "    game_time = df['time'].values[-1] # 시간에서 가장 마지막 시간(총 게임 시간)\n",
    "    player_0_species = df_0['species'].iloc[0] # 해당 게임 0플레이어 종족\n",
    "    player_1_species = df_1['species'].iloc[0] # 해당 게임 1플레이어 종족 \n",
    "\n",
    "    player_0_camera = np.array([item.replace('at (', '').replace(')', '').split(',') for item in df_0['event_contents']]).astype(float)\n",
    "    player_1_camera = np.array([item.replace('at (', '').replace(')', '').split(',') for item in df_1['event_contents']]).astype(float)\n",
    "    \n",
    "    plt.scatter(player_0_camera[:, 0], player_0_camera[:, 1], label='player_0', alpha=0.3, color='b', s=50)\n",
    "    plt.scatter(player_1_camera[:, 0], player_1_camera[:, 1], label='player_1', alpha=0.3, color='r', s=50)\n",
    "    plt.legend()\n",
    "    plt.show()\n",
    "    \n",
    "    print('Total game time: %s'%(game_time))\n",
    "    print('Winner: Player_%i'%(winner))\n",
    "    print('Player_0: %s'%(player_0_species))\n",
    "    print('Player_1: %s'%(player_1_species))"
   ]
  },
  {
   "cell_type": "code",
   "execution_count": null,
   "metadata": {
    "scrolled": true
   },
   "outputs": [],
   "source": [
    "df_0 = df.loc[(df['game_id']==2) & (df['event'] == 'Camera') & (df['player']==0)]\n",
    "df_0"
   ]
  },
  {
   "cell_type": "code",
   "execution_count": null,
   "metadata": {},
   "outputs": [],
   "source": [
    "df_1 = df.loc[(df['game_id']==2) & (df['event'] == 'Camera') & (df['player']==1)]\n",
    "df_1"
   ]
  },
  {
   "cell_type": "code",
   "execution_count": null,
   "metadata": {},
   "outputs": [],
   "source": [
    "df_0.iloc[0, 6] - df_0.iloc[-1,6]"
   ]
  },
  {
   "cell_type": "code",
   "execution_count": null,
   "metadata": {},
   "outputs": [],
   "source": [
    "df_1.iloc[0, 6] - df_1.iloc[-1,6]"
   ]
  },
  {
   "cell_type": "code",
   "execution_count": null,
   "metadata": {},
   "outputs": [],
   "source": []
  }
 ],
 "metadata": {
  "kernelspec": {
   "display_name": "Python 3",
   "language": "python",
   "name": "python3"
  },
  "language_info": {
   "codemirror_mode": {
    "name": "ipython",
    "version": 3
   },
   "file_extension": ".py",
   "mimetype": "text/x-python",
   "name": "python",
   "nbconvert_exporter": "python",
   "pygments_lexer": "ipython3",
   "version": "3.7.6"
  }
 },
 "nbformat": 4,
 "nbformat_minor": 4
}
